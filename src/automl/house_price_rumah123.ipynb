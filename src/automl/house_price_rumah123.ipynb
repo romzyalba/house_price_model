{
 "cells": [
  {
   "cell_type": "code",
   "execution_count": 1,
   "id": "a06352e5",
   "metadata": {},
   "outputs": [
    {
     "data": {
      "text/html": [
       "<div>\n",
       "<style scoped>\n",
       "    .dataframe tbody tr th:only-of-type {\n",
       "        vertical-align: middle;\n",
       "    }\n",
       "\n",
       "    .dataframe tbody tr th {\n",
       "        vertical-align: top;\n",
       "    }\n",
       "\n",
       "    .dataframe thead th {\n",
       "        text-align: right;\n",
       "    }\n",
       "</style>\n",
       "<table border=\"1\" class=\"dataframe\">\n",
       "  <thead>\n",
       "    <tr style=\"text-align: right;\">\n",
       "      <th></th>\n",
       "      <th>price</th>\n",
       "      <th>location</th>\n",
       "      <th>bedroom</th>\n",
       "      <th>bathroom</th>\n",
       "      <th>land_area</th>\n",
       "      <th>building_area</th>\n",
       "    </tr>\n",
       "  </thead>\n",
       "  <tbody>\n",
       "    <tr>\n",
       "      <th>0</th>\n",
       "      <td>1680</td>\n",
       "      <td>Rungkut, Surabaya</td>\n",
       "      <td>3</td>\n",
       "      <td>3</td>\n",
       "      <td>67</td>\n",
       "      <td>120</td>\n",
       "    </tr>\n",
       "    <tr>\n",
       "      <th>1</th>\n",
       "      <td>950</td>\n",
       "      <td>Medokan Ayu, Surabaya</td>\n",
       "      <td>3</td>\n",
       "      <td>3</td>\n",
       "      <td>72</td>\n",
       "      <td>140</td>\n",
       "    </tr>\n",
       "    <tr>\n",
       "      <th>2</th>\n",
       "      <td>500</td>\n",
       "      <td>Wonorejo, Surabaya</td>\n",
       "      <td>2</td>\n",
       "      <td>1</td>\n",
       "      <td>30</td>\n",
       "      <td>36</td>\n",
       "    </tr>\n",
       "    <tr>\n",
       "      <th>3</th>\n",
       "      <td>950</td>\n",
       "      <td>Sukolilo, Surabaya</td>\n",
       "      <td>2</td>\n",
       "      <td>2</td>\n",
       "      <td>50</td>\n",
       "      <td>55</td>\n",
       "    </tr>\n",
       "    <tr>\n",
       "      <th>4</th>\n",
       "      <td>600</td>\n",
       "      <td>Kebraon, Surabaya</td>\n",
       "      <td>2</td>\n",
       "      <td>1</td>\n",
       "      <td>50</td>\n",
       "      <td>56</td>\n",
       "    </tr>\n",
       "    <tr>\n",
       "      <th>...</th>\n",
       "      <td>...</td>\n",
       "      <td>...</td>\n",
       "      <td>...</td>\n",
       "      <td>...</td>\n",
       "      <td>...</td>\n",
       "      <td>...</td>\n",
       "    </tr>\n",
       "    <tr>\n",
       "      <th>37353</th>\n",
       "      <td>730</td>\n",
       "      <td>Sidoarjo</td>\n",
       "      <td>3</td>\n",
       "      <td>1</td>\n",
       "      <td>144</td>\n",
       "      <td>120</td>\n",
       "    </tr>\n",
       "    <tr>\n",
       "      <th>37354</th>\n",
       "      <td>1200</td>\n",
       "      <td>Sedati, Sidoarjo</td>\n",
       "      <td>3</td>\n",
       "      <td>2</td>\n",
       "      <td>90</td>\n",
       "      <td>112</td>\n",
       "    </tr>\n",
       "    <tr>\n",
       "      <th>37355</th>\n",
       "      <td>660</td>\n",
       "      <td>Sidoarjo</td>\n",
       "      <td>2</td>\n",
       "      <td>1</td>\n",
       "      <td>90</td>\n",
       "      <td>70</td>\n",
       "    </tr>\n",
       "    <tr>\n",
       "      <th>37356</th>\n",
       "      <td>600</td>\n",
       "      <td>Sedati, Sidoarjo</td>\n",
       "      <td>2</td>\n",
       "      <td>1</td>\n",
       "      <td>84</td>\n",
       "      <td>60</td>\n",
       "    </tr>\n",
       "    <tr>\n",
       "      <th>37357</th>\n",
       "      <td>3650</td>\n",
       "      <td>Waru, Sidoarjo</td>\n",
       "      <td>4</td>\n",
       "      <td>3</td>\n",
       "      <td>300</td>\n",
       "      <td>420</td>\n",
       "    </tr>\n",
       "  </tbody>\n",
       "</table>\n",
       "<p>37358 rows × 6 columns</p>\n",
       "</div>"
      ],
      "text/plain": [
       "       price               location  bedroom  bathroom  land_area  \\\n",
       "0       1680      Rungkut, Surabaya        3         3         67   \n",
       "1        950  Medokan Ayu, Surabaya        3         3         72   \n",
       "2        500     Wonorejo, Surabaya        2         1         30   \n",
       "3        950     Sukolilo, Surabaya        2         2         50   \n",
       "4        600      Kebraon, Surabaya        2         1         50   \n",
       "...      ...                    ...      ...       ...        ...   \n",
       "37353    730               Sidoarjo        3         1        144   \n",
       "37354   1200       Sedati, Sidoarjo        3         2         90   \n",
       "37355    660               Sidoarjo        2         1         90   \n",
       "37356    600       Sedati, Sidoarjo        2         1         84   \n",
       "37357   3650         Waru, Sidoarjo        4         3        300   \n",
       "\n",
       "       building_area  \n",
       "0                120  \n",
       "1                140  \n",
       "2                 36  \n",
       "3                 55  \n",
       "4                 56  \n",
       "...              ...  \n",
       "37353            120  \n",
       "37354            112  \n",
       "37355             70  \n",
       "37356             60  \n",
       "37357            420  \n",
       "\n",
       "[37358 rows x 6 columns]"
      ]
     },
     "execution_count": 1,
     "metadata": {},
     "output_type": "execute_result"
    }
   ],
   "source": [
    "import pandas as pd\n",
    "from pycaret.regression import *\n",
    "\n",
    "df = pd.read_csv(\"../../data/rumah123_cleaned.csv\")\n",
    "\n",
    "df = df.drop(columns=[\"Unnamed: 0\", \"name\"], errors='ignore')\n",
    "df"
   ]
  },
  {
   "cell_type": "code",
   "execution_count": 2,
   "id": "4090e437",
   "metadata": {},
   "outputs": [
    {
     "data": {
      "text/plain": [
       "14417"
      ]
     },
     "execution_count": 2,
     "metadata": {},
     "output_type": "execute_result"
    }
   ],
   "source": [
    "df.duplicated().sum()"
   ]
  },
  {
   "cell_type": "code",
   "execution_count": 3,
   "id": "6621bee7",
   "metadata": {},
   "outputs": [],
   "source": [
    "df = df.drop_duplicates()"
   ]
  },
  {
   "cell_type": "code",
   "execution_count": 4,
   "id": "1d4794aa",
   "metadata": {},
   "outputs": [
    {
     "data": {
      "text/plain": [
       "0"
      ]
     },
     "execution_count": 4,
     "metadata": {},
     "output_type": "execute_result"
    }
   ],
   "source": [
    "df.duplicated().sum()"
   ]
  },
  {
   "cell_type": "code",
   "execution_count": null,
   "id": "0e764082",
   "metadata": {},
   "outputs": [],
   "source": [
    "import ydata_profiling as pp\n",
    "\n",
    "profile = pp.ProfileReport(df)\n",
    "profile.to_file('Report_Rumah123.html')"
   ]
  },
  {
   "cell_type": "code",
   "execution_count": 6,
   "id": "32dd2574",
   "metadata": {},
   "outputs": [
    {
     "data": {
      "text/html": [
       "<style type=\"text/css\">\n",
       "#T_99880_row9_col1, #T_99880_row15_col1, #T_99880_row17_col1, #T_99880_row19_col1 {\n",
       "  background-color: lightgreen;\n",
       "}\n",
       "</style>\n",
       "<table id=\"T_99880\">\n",
       "  <thead>\n",
       "    <tr>\n",
       "      <th class=\"blank level0\" >&nbsp;</th>\n",
       "      <th id=\"T_99880_level0_col0\" class=\"col_heading level0 col0\" >Description</th>\n",
       "      <th id=\"T_99880_level0_col1\" class=\"col_heading level0 col1\" >Value</th>\n",
       "    </tr>\n",
       "  </thead>\n",
       "  <tbody>\n",
       "    <tr>\n",
       "      <th id=\"T_99880_level0_row0\" class=\"row_heading level0 row0\" >0</th>\n",
       "      <td id=\"T_99880_row0_col0\" class=\"data row0 col0\" >Session id</td>\n",
       "      <td id=\"T_99880_row0_col1\" class=\"data row0 col1\" >42</td>\n",
       "    </tr>\n",
       "    <tr>\n",
       "      <th id=\"T_99880_level0_row1\" class=\"row_heading level0 row1\" >1</th>\n",
       "      <td id=\"T_99880_row1_col0\" class=\"data row1 col0\" >Target</td>\n",
       "      <td id=\"T_99880_row1_col1\" class=\"data row1 col1\" >price</td>\n",
       "    </tr>\n",
       "    <tr>\n",
       "      <th id=\"T_99880_level0_row2\" class=\"row_heading level0 row2\" >2</th>\n",
       "      <td id=\"T_99880_row2_col0\" class=\"data row2 col0\" >Target type</td>\n",
       "      <td id=\"T_99880_row2_col1\" class=\"data row2 col1\" >Regression</td>\n",
       "    </tr>\n",
       "    <tr>\n",
       "      <th id=\"T_99880_level0_row3\" class=\"row_heading level0 row3\" >3</th>\n",
       "      <td id=\"T_99880_row3_col0\" class=\"data row3 col0\" >Original data shape</td>\n",
       "      <td id=\"T_99880_row3_col1\" class=\"data row3 col1\" >(22941, 6)</td>\n",
       "    </tr>\n",
       "    <tr>\n",
       "      <th id=\"T_99880_level0_row4\" class=\"row_heading level0 row4\" >4</th>\n",
       "      <td id=\"T_99880_row4_col0\" class=\"data row4 col0\" >Transformed data shape</td>\n",
       "      <td id=\"T_99880_row4_col1\" class=\"data row4 col1\" >(22138, 6)</td>\n",
       "    </tr>\n",
       "    <tr>\n",
       "      <th id=\"T_99880_level0_row5\" class=\"row_heading level0 row5\" >5</th>\n",
       "      <td id=\"T_99880_row5_col0\" class=\"data row5 col0\" >Transformed train set shape</td>\n",
       "      <td id=\"T_99880_row5_col1\" class=\"data row5 col1\" >(15255, 6)</td>\n",
       "    </tr>\n",
       "    <tr>\n",
       "      <th id=\"T_99880_level0_row6\" class=\"row_heading level0 row6\" >6</th>\n",
       "      <td id=\"T_99880_row6_col0\" class=\"data row6 col0\" >Transformed test set shape</td>\n",
       "      <td id=\"T_99880_row6_col1\" class=\"data row6 col1\" >(6883, 6)</td>\n",
       "    </tr>\n",
       "    <tr>\n",
       "      <th id=\"T_99880_level0_row7\" class=\"row_heading level0 row7\" >7</th>\n",
       "      <td id=\"T_99880_row7_col0\" class=\"data row7 col0\" >Numeric features</td>\n",
       "      <td id=\"T_99880_row7_col1\" class=\"data row7 col1\" >4</td>\n",
       "    </tr>\n",
       "    <tr>\n",
       "      <th id=\"T_99880_level0_row8\" class=\"row_heading level0 row8\" >8</th>\n",
       "      <td id=\"T_99880_row8_col0\" class=\"data row8 col0\" >Categorical features</td>\n",
       "      <td id=\"T_99880_row8_col1\" class=\"data row8 col1\" >1</td>\n",
       "    </tr>\n",
       "    <tr>\n",
       "      <th id=\"T_99880_level0_row9\" class=\"row_heading level0 row9\" >9</th>\n",
       "      <td id=\"T_99880_row9_col0\" class=\"data row9 col0\" >Preprocess</td>\n",
       "      <td id=\"T_99880_row9_col1\" class=\"data row9 col1\" >True</td>\n",
       "    </tr>\n",
       "    <tr>\n",
       "      <th id=\"T_99880_level0_row10\" class=\"row_heading level0 row10\" >10</th>\n",
       "      <td id=\"T_99880_row10_col0\" class=\"data row10 col0\" >Imputation type</td>\n",
       "      <td id=\"T_99880_row10_col1\" class=\"data row10 col1\" >simple</td>\n",
       "    </tr>\n",
       "    <tr>\n",
       "      <th id=\"T_99880_level0_row11\" class=\"row_heading level0 row11\" >11</th>\n",
       "      <td id=\"T_99880_row11_col0\" class=\"data row11 col0\" >Numeric imputation</td>\n",
       "      <td id=\"T_99880_row11_col1\" class=\"data row11 col1\" >mean</td>\n",
       "    </tr>\n",
       "    <tr>\n",
       "      <th id=\"T_99880_level0_row12\" class=\"row_heading level0 row12\" >12</th>\n",
       "      <td id=\"T_99880_row12_col0\" class=\"data row12 col0\" >Categorical imputation</td>\n",
       "      <td id=\"T_99880_row12_col1\" class=\"data row12 col1\" >mode</td>\n",
       "    </tr>\n",
       "    <tr>\n",
       "      <th id=\"T_99880_level0_row13\" class=\"row_heading level0 row13\" >13</th>\n",
       "      <td id=\"T_99880_row13_col0\" class=\"data row13 col0\" >Maximum one-hot encoding</td>\n",
       "      <td id=\"T_99880_row13_col1\" class=\"data row13 col1\" >25</td>\n",
       "    </tr>\n",
       "    <tr>\n",
       "      <th id=\"T_99880_level0_row14\" class=\"row_heading level0 row14\" >14</th>\n",
       "      <td id=\"T_99880_row14_col0\" class=\"data row14 col0\" >Encoding method</td>\n",
       "      <td id=\"T_99880_row14_col1\" class=\"data row14 col1\" >None</td>\n",
       "    </tr>\n",
       "    <tr>\n",
       "      <th id=\"T_99880_level0_row15\" class=\"row_heading level0 row15\" >15</th>\n",
       "      <td id=\"T_99880_row15_col0\" class=\"data row15 col0\" >Remove outliers</td>\n",
       "      <td id=\"T_99880_row15_col1\" class=\"data row15 col1\" >True</td>\n",
       "    </tr>\n",
       "    <tr>\n",
       "      <th id=\"T_99880_level0_row16\" class=\"row_heading level0 row16\" >16</th>\n",
       "      <td id=\"T_99880_row16_col0\" class=\"data row16 col0\" >Outliers threshold</td>\n",
       "      <td id=\"T_99880_row16_col1\" class=\"data row16 col1\" >0.050000</td>\n",
       "    </tr>\n",
       "    <tr>\n",
       "      <th id=\"T_99880_level0_row17\" class=\"row_heading level0 row17\" >17</th>\n",
       "      <td id=\"T_99880_row17_col0\" class=\"data row17 col0\" >Normalize</td>\n",
       "      <td id=\"T_99880_row17_col1\" class=\"data row17 col1\" >True</td>\n",
       "    </tr>\n",
       "    <tr>\n",
       "      <th id=\"T_99880_level0_row18\" class=\"row_heading level0 row18\" >18</th>\n",
       "      <td id=\"T_99880_row18_col0\" class=\"data row18 col0\" >Normalize method</td>\n",
       "      <td id=\"T_99880_row18_col1\" class=\"data row18 col1\" >minmax</td>\n",
       "    </tr>\n",
       "    <tr>\n",
       "      <th id=\"T_99880_level0_row19\" class=\"row_heading level0 row19\" >19</th>\n",
       "      <td id=\"T_99880_row19_col0\" class=\"data row19 col0\" >Transform target</td>\n",
       "      <td id=\"T_99880_row19_col1\" class=\"data row19 col1\" >True</td>\n",
       "    </tr>\n",
       "    <tr>\n",
       "      <th id=\"T_99880_level0_row20\" class=\"row_heading level0 row20\" >20</th>\n",
       "      <td id=\"T_99880_row20_col0\" class=\"data row20 col0\" >Transform target method</td>\n",
       "      <td id=\"T_99880_row20_col1\" class=\"data row20 col1\" >yeo-johnson</td>\n",
       "    </tr>\n",
       "    <tr>\n",
       "      <th id=\"T_99880_level0_row21\" class=\"row_heading level0 row21\" >21</th>\n",
       "      <td id=\"T_99880_row21_col0\" class=\"data row21 col0\" >Fold Generator</td>\n",
       "      <td id=\"T_99880_row21_col1\" class=\"data row21 col1\" >KFold</td>\n",
       "    </tr>\n",
       "    <tr>\n",
       "      <th id=\"T_99880_level0_row22\" class=\"row_heading level0 row22\" >22</th>\n",
       "      <td id=\"T_99880_row22_col0\" class=\"data row22 col0\" >Fold Number</td>\n",
       "      <td id=\"T_99880_row22_col1\" class=\"data row22 col1\" >10</td>\n",
       "    </tr>\n",
       "    <tr>\n",
       "      <th id=\"T_99880_level0_row23\" class=\"row_heading level0 row23\" >23</th>\n",
       "      <td id=\"T_99880_row23_col0\" class=\"data row23 col0\" >CPU Jobs</td>\n",
       "      <td id=\"T_99880_row23_col1\" class=\"data row23 col1\" >-1</td>\n",
       "    </tr>\n",
       "    <tr>\n",
       "      <th id=\"T_99880_level0_row24\" class=\"row_heading level0 row24\" >24</th>\n",
       "      <td id=\"T_99880_row24_col0\" class=\"data row24 col0\" >Use GPU</td>\n",
       "      <td id=\"T_99880_row24_col1\" class=\"data row24 col1\" >False</td>\n",
       "    </tr>\n",
       "    <tr>\n",
       "      <th id=\"T_99880_level0_row25\" class=\"row_heading level0 row25\" >25</th>\n",
       "      <td id=\"T_99880_row25_col0\" class=\"data row25 col0\" >Log Experiment</td>\n",
       "      <td id=\"T_99880_row25_col1\" class=\"data row25 col1\" >False</td>\n",
       "    </tr>\n",
       "    <tr>\n",
       "      <th id=\"T_99880_level0_row26\" class=\"row_heading level0 row26\" >26</th>\n",
       "      <td id=\"T_99880_row26_col0\" class=\"data row26 col0\" >Experiment Name</td>\n",
       "      <td id=\"T_99880_row26_col1\" class=\"data row26 col1\" >reg-default-name</td>\n",
       "    </tr>\n",
       "    <tr>\n",
       "      <th id=\"T_99880_level0_row27\" class=\"row_heading level0 row27\" >27</th>\n",
       "      <td id=\"T_99880_row27_col0\" class=\"data row27 col0\" >USI</td>\n",
       "      <td id=\"T_99880_row27_col1\" class=\"data row27 col1\" >df33</td>\n",
       "    </tr>\n",
       "  </tbody>\n",
       "</table>\n"
      ],
      "text/plain": [
       "<pandas.io.formats.style.Styler at 0x222372d2b10>"
      ]
     },
     "metadata": {},
     "output_type": "display_data"
    },
    {
     "data": {
      "text/plain": [
       "<pycaret.regression.oop.RegressionExperiment at 0x2227d672c10>"
      ]
     },
     "execution_count": 6,
     "metadata": {},
     "output_type": "execute_result"
    }
   ],
   "source": [
    "setup(\n",
    "    df, \n",
    "    target='price',\n",
    "    transform_target=True, \n",
    "    normalize=True, \n",
    "    normalize_method='minmax',\n",
    "    remove_outliers=True, \n",
    "    outliers_threshold=0.05,\n",
    "    categorical_features=['location'],\n",
    "    session_id=42\n",
    ")"
   ]
  },
  {
   "cell_type": "code",
   "execution_count": 7,
   "id": "e4179c51",
   "metadata": {},
   "outputs": [
    {
     "data": {
      "text/html": [],
      "text/plain": [
       "<IPython.core.display.HTML object>"
      ]
     },
     "metadata": {},
     "output_type": "display_data"
    },
    {
     "data": {
      "text/html": [],
      "text/plain": [
       "<IPython.core.display.HTML object>"
      ]
     },
     "metadata": {},
     "output_type": "display_data"
    },
    {
     "data": {
      "text/html": [],
      "text/plain": [
       "<IPython.core.display.HTML object>"
      ]
     },
     "metadata": {},
     "output_type": "display_data"
    }
   ],
   "source": [
    "best = compare_models()"
   ]
  },
  {
   "cell_type": "code",
   "execution_count": 8,
   "id": "283e6377",
   "metadata": {},
   "outputs": [
    {
     "data": {
      "application/vnd.jupyter.widget-view+json": {
       "model_id": "becee41c2bca46d99e3e491cfbab82c2",
       "version_major": 2,
       "version_minor": 0
      },
      "text/plain": [
       "interactive(children=(ToggleButtons(description='Plot Type:', icons=('',), options=(('Pipeline Plot', 'pipelin…"
      ]
     },
     "metadata": {},
     "output_type": "display_data"
    }
   ],
   "source": [
    "result = evaluate_model(best)"
   ]
  },
  {
   "cell_type": "code",
   "execution_count": 8,
   "id": "6105f8ca",
   "metadata": {},
   "outputs": [
    {
     "data": {
      "text/html": [],
      "text/plain": [
       "<IPython.core.display.HTML object>"
      ]
     },
     "metadata": {},
     "output_type": "display_data"
    },
    {
     "data": {
      "text/html": [
       "<style type=\"text/css\">\n",
       "#T_3a70a_row10_col0, #T_3a70a_row10_col1, #T_3a70a_row10_col2, #T_3a70a_row10_col3, #T_3a70a_row10_col4, #T_3a70a_row10_col5 {\n",
       "  background: yellow;\n",
       "}\n",
       "</style>\n",
       "<table id=\"T_3a70a\">\n",
       "  <thead>\n",
       "    <tr>\n",
       "      <th class=\"blank level0\" >&nbsp;</th>\n",
       "      <th id=\"T_3a70a_level0_col0\" class=\"col_heading level0 col0\" >MAE</th>\n",
       "      <th id=\"T_3a70a_level0_col1\" class=\"col_heading level0 col1\" >MSE</th>\n",
       "      <th id=\"T_3a70a_level0_col2\" class=\"col_heading level0 col2\" >RMSE</th>\n",
       "      <th id=\"T_3a70a_level0_col3\" class=\"col_heading level0 col3\" >R2</th>\n",
       "      <th id=\"T_3a70a_level0_col4\" class=\"col_heading level0 col4\" >RMSLE</th>\n",
       "      <th id=\"T_3a70a_level0_col5\" class=\"col_heading level0 col5\" >MAPE</th>\n",
       "    </tr>\n",
       "    <tr>\n",
       "      <th class=\"index_name level0\" >Fold</th>\n",
       "      <th class=\"blank col0\" >&nbsp;</th>\n",
       "      <th class=\"blank col1\" >&nbsp;</th>\n",
       "      <th class=\"blank col2\" >&nbsp;</th>\n",
       "      <th class=\"blank col3\" >&nbsp;</th>\n",
       "      <th class=\"blank col4\" >&nbsp;</th>\n",
       "      <th class=\"blank col5\" >&nbsp;</th>\n",
       "    </tr>\n",
       "  </thead>\n",
       "  <tbody>\n",
       "    <tr>\n",
       "      <th id=\"T_3a70a_level0_row0\" class=\"row_heading level0 row0\" >0</th>\n",
       "      <td id=\"T_3a70a_row0_col0\" class=\"data row0 col0\" >204.3913</td>\n",
       "      <td id=\"T_3a70a_row0_col1\" class=\"data row0 col1\" >72354.9339</td>\n",
       "      <td id=\"T_3a70a_row0_col2\" class=\"data row0 col2\" >268.9887</td>\n",
       "      <td id=\"T_3a70a_row0_col3\" class=\"data row0 col3\" >0.6697</td>\n",
       "      <td id=\"T_3a70a_row0_col4\" class=\"data row0 col4\" >0.2444</td>\n",
       "      <td id=\"T_3a70a_row0_col5\" class=\"data row0 col5\" >0.1905</td>\n",
       "    </tr>\n",
       "    <tr>\n",
       "      <th id=\"T_3a70a_level0_row1\" class=\"row_heading level0 row1\" >1</th>\n",
       "      <td id=\"T_3a70a_row1_col0\" class=\"data row1 col0\" >211.8300</td>\n",
       "      <td id=\"T_3a70a_row1_col1\" class=\"data row1 col1\" >78469.3739</td>\n",
       "      <td id=\"T_3a70a_row1_col2\" class=\"data row1 col2\" >280.1239</td>\n",
       "      <td id=\"T_3a70a_row1_col3\" class=\"data row1 col3\" >0.6378</td>\n",
       "      <td id=\"T_3a70a_row1_col4\" class=\"data row1 col4\" >0.2602</td>\n",
       "      <td id=\"T_3a70a_row1_col5\" class=\"data row1 col5\" >0.2099</td>\n",
       "    </tr>\n",
       "    <tr>\n",
       "      <th id=\"T_3a70a_level0_row2\" class=\"row_heading level0 row2\" >2</th>\n",
       "      <td id=\"T_3a70a_row2_col0\" class=\"data row2 col0\" >213.2902</td>\n",
       "      <td id=\"T_3a70a_row2_col1\" class=\"data row2 col1\" >83014.1209</td>\n",
       "      <td id=\"T_3a70a_row2_col2\" class=\"data row2 col2\" >288.1217</td>\n",
       "      <td id=\"T_3a70a_row2_col3\" class=\"data row2 col3\" >0.6444</td>\n",
       "      <td id=\"T_3a70a_row2_col4\" class=\"data row2 col4\" >0.2800</td>\n",
       "      <td id=\"T_3a70a_row2_col5\" class=\"data row2 col5\" >0.2249</td>\n",
       "    </tr>\n",
       "    <tr>\n",
       "      <th id=\"T_3a70a_level0_row3\" class=\"row_heading level0 row3\" >3</th>\n",
       "      <td id=\"T_3a70a_row3_col0\" class=\"data row3 col0\" >212.7503</td>\n",
       "      <td id=\"T_3a70a_row3_col1\" class=\"data row3 col1\" >79353.6292</td>\n",
       "      <td id=\"T_3a70a_row3_col2\" class=\"data row3 col2\" >281.6978</td>\n",
       "      <td id=\"T_3a70a_row3_col3\" class=\"data row3 col3\" >0.6542</td>\n",
       "      <td id=\"T_3a70a_row3_col4\" class=\"data row3 col4\" >0.2590</td>\n",
       "      <td id=\"T_3a70a_row3_col5\" class=\"data row3 col5\" >0.2062</td>\n",
       "    </tr>\n",
       "    <tr>\n",
       "      <th id=\"T_3a70a_level0_row4\" class=\"row_heading level0 row4\" >4</th>\n",
       "      <td id=\"T_3a70a_row4_col0\" class=\"data row4 col0\" >222.8607</td>\n",
       "      <td id=\"T_3a70a_row4_col1\" class=\"data row4 col1\" >83598.3306</td>\n",
       "      <td id=\"T_3a70a_row4_col2\" class=\"data row4 col2\" >289.1338</td>\n",
       "      <td id=\"T_3a70a_row4_col3\" class=\"data row4 col3\" >0.6356</td>\n",
       "      <td id=\"T_3a70a_row4_col4\" class=\"data row4 col4\" >0.2764</td>\n",
       "      <td id=\"T_3a70a_row4_col5\" class=\"data row4 col5\" >0.2263</td>\n",
       "    </tr>\n",
       "    <tr>\n",
       "      <th id=\"T_3a70a_level0_row5\" class=\"row_heading level0 row5\" >5</th>\n",
       "      <td id=\"T_3a70a_row5_col0\" class=\"data row5 col0\" >209.4171</td>\n",
       "      <td id=\"T_3a70a_row5_col1\" class=\"data row5 col1\" >75736.7643</td>\n",
       "      <td id=\"T_3a70a_row5_col2\" class=\"data row5 col2\" >275.2031</td>\n",
       "      <td id=\"T_3a70a_row5_col3\" class=\"data row5 col3\" >0.6747</td>\n",
       "      <td id=\"T_3a70a_row5_col4\" class=\"data row5 col4\" >0.2525</td>\n",
       "      <td id=\"T_3a70a_row5_col5\" class=\"data row5 col5\" >0.2046</td>\n",
       "    </tr>\n",
       "    <tr>\n",
       "      <th id=\"T_3a70a_level0_row6\" class=\"row_heading level0 row6\" >6</th>\n",
       "      <td id=\"T_3a70a_row6_col0\" class=\"data row6 col0\" >203.5958</td>\n",
       "      <td id=\"T_3a70a_row6_col1\" class=\"data row6 col1\" >71116.6978</td>\n",
       "      <td id=\"T_3a70a_row6_col2\" class=\"data row6 col2\" >266.6771</td>\n",
       "      <td id=\"T_3a70a_row6_col3\" class=\"data row6 col3\" >0.6905</td>\n",
       "      <td id=\"T_3a70a_row6_col4\" class=\"data row6 col4\" >0.2489</td>\n",
       "      <td id=\"T_3a70a_row6_col5\" class=\"data row6 col5\" >0.1989</td>\n",
       "    </tr>\n",
       "    <tr>\n",
       "      <th id=\"T_3a70a_level0_row7\" class=\"row_heading level0 row7\" >7</th>\n",
       "      <td id=\"T_3a70a_row7_col0\" class=\"data row7 col0\" >214.5294</td>\n",
       "      <td id=\"T_3a70a_row7_col1\" class=\"data row7 col1\" >83781.0844</td>\n",
       "      <td id=\"T_3a70a_row7_col2\" class=\"data row7 col2\" >289.4496</td>\n",
       "      <td id=\"T_3a70a_row7_col3\" class=\"data row7 col3\" >0.6223</td>\n",
       "      <td id=\"T_3a70a_row7_col4\" class=\"data row7 col4\" >0.2753</td>\n",
       "      <td id=\"T_3a70a_row7_col5\" class=\"data row7 col5\" >0.2164</td>\n",
       "    </tr>\n",
       "    <tr>\n",
       "      <th id=\"T_3a70a_level0_row8\" class=\"row_heading level0 row8\" >8</th>\n",
       "      <td id=\"T_3a70a_row8_col0\" class=\"data row8 col0\" >216.5194</td>\n",
       "      <td id=\"T_3a70a_row8_col1\" class=\"data row8 col1\" >83807.9552</td>\n",
       "      <td id=\"T_3a70a_row8_col2\" class=\"data row8 col2\" >289.4960</td>\n",
       "      <td id=\"T_3a70a_row8_col3\" class=\"data row8 col3\" >0.6268</td>\n",
       "      <td id=\"T_3a70a_row8_col4\" class=\"data row8 col4\" >0.2865</td>\n",
       "      <td id=\"T_3a70a_row8_col5\" class=\"data row8 col5\" >0.2304</td>\n",
       "    </tr>\n",
       "    <tr>\n",
       "      <th id=\"T_3a70a_level0_row9\" class=\"row_heading level0 row9\" >9</th>\n",
       "      <td id=\"T_3a70a_row9_col0\" class=\"data row9 col0\" >212.0852</td>\n",
       "      <td id=\"T_3a70a_row9_col1\" class=\"data row9 col1\" >77893.3707</td>\n",
       "      <td id=\"T_3a70a_row9_col2\" class=\"data row9 col2\" >279.0938</td>\n",
       "      <td id=\"T_3a70a_row9_col3\" class=\"data row9 col3\" >0.6539</td>\n",
       "      <td id=\"T_3a70a_row9_col4\" class=\"data row9 col4\" >0.2595</td>\n",
       "      <td id=\"T_3a70a_row9_col5\" class=\"data row9 col5\" >0.2078</td>\n",
       "    </tr>\n",
       "    <tr>\n",
       "      <th id=\"T_3a70a_level0_row10\" class=\"row_heading level0 row10\" >Mean</th>\n",
       "      <td id=\"T_3a70a_row10_col0\" class=\"data row10 col0\" >212.1269</td>\n",
       "      <td id=\"T_3a70a_row10_col1\" class=\"data row10 col1\" >78912.6261</td>\n",
       "      <td id=\"T_3a70a_row10_col2\" class=\"data row10 col2\" >280.7986</td>\n",
       "      <td id=\"T_3a70a_row10_col3\" class=\"data row10 col3\" >0.6510</td>\n",
       "      <td id=\"T_3a70a_row10_col4\" class=\"data row10 col4\" >0.2643</td>\n",
       "      <td id=\"T_3a70a_row10_col5\" class=\"data row10 col5\" >0.2116</td>\n",
       "    </tr>\n",
       "    <tr>\n",
       "      <th id=\"T_3a70a_level0_row11\" class=\"row_heading level0 row11\" >Std</th>\n",
       "      <td id=\"T_3a70a_row11_col0\" class=\"data row11 col0\" >5.3111</td>\n",
       "      <td id=\"T_3a70a_row11_col1\" class=\"data row11 col1\" >4491.5474</td>\n",
       "      <td id=\"T_3a70a_row11_col2\" class=\"data row11 col2\" >8.0496</td>\n",
       "      <td id=\"T_3a70a_row11_col3\" class=\"data row11 col3\" >0.0209</td>\n",
       "      <td id=\"T_3a70a_row11_col4\" class=\"data row11 col4\" >0.0136</td>\n",
       "      <td id=\"T_3a70a_row11_col5\" class=\"data row11 col5\" >0.0121</td>\n",
       "    </tr>\n",
       "  </tbody>\n",
       "</table>\n"
      ],
      "text/plain": [
       "<pandas.io.formats.style.Styler at 0x2747a38dc90>"
      ]
     },
     "metadata": {},
     "output_type": "display_data"
    },
    {
     "data": {
      "text/html": [],
      "text/plain": [
       "<IPython.core.display.HTML object>"
      ]
     },
     "metadata": {},
     "output_type": "display_data"
    },
    {
     "name": "stdout",
     "output_type": "stream",
     "text": [
      "Fitting 10 folds for each of 1 candidates, totalling 10 fits\n",
      "Fitting 10 folds for each of 1 candidates, totalling 10 fits\n",
      "Fitting 10 folds for each of 1 candidates, totalling 10 fits\n",
      "Fitting 10 folds for each of 1 candidates, totalling 10 fits\n",
      "Fitting 10 folds for each of 1 candidates, totalling 10 fits\n",
      "Fitting 10 folds for each of 1 candidates, totalling 10 fits\n",
      "Fitting 10 folds for each of 1 candidates, totalling 10 fits\n",
      "Fitting 10 folds for each of 1 candidates, totalling 10 fits\n",
      "Fitting 10 folds for each of 1 candidates, totalling 10 fits\n",
      "Fitting 10 folds for each of 1 candidates, totalling 10 fits\n"
     ]
    }
   ],
   "source": [
    "tuned_model = tune_model(best, search_library='scikit-optimize', search_algorithm='bayesian')"
   ]
  },
  {
   "cell_type": "code",
   "execution_count": 9,
   "id": "581c8440",
   "metadata": {},
   "outputs": [
    {
     "data": {
      "text/html": [
       "<style type=\"text/css\">\n",
       "</style>\n",
       "<table id=\"T_752f2\">\n",
       "  <thead>\n",
       "    <tr>\n",
       "      <th class=\"blank level0\" >&nbsp;</th>\n",
       "      <th id=\"T_752f2_level0_col0\" class=\"col_heading level0 col0\" >Model</th>\n",
       "      <th id=\"T_752f2_level0_col1\" class=\"col_heading level0 col1\" >MAE</th>\n",
       "      <th id=\"T_752f2_level0_col2\" class=\"col_heading level0 col2\" >MSE</th>\n",
       "      <th id=\"T_752f2_level0_col3\" class=\"col_heading level0 col3\" >RMSE</th>\n",
       "      <th id=\"T_752f2_level0_col4\" class=\"col_heading level0 col4\" >R2</th>\n",
       "      <th id=\"T_752f2_level0_col5\" class=\"col_heading level0 col5\" >RMSLE</th>\n",
       "      <th id=\"T_752f2_level0_col6\" class=\"col_heading level0 col6\" >MAPE</th>\n",
       "    </tr>\n",
       "  </thead>\n",
       "  <tbody>\n",
       "    <tr>\n",
       "      <th id=\"T_752f2_level0_row0\" class=\"row_heading level0 row0\" >0</th>\n",
       "      <td id=\"T_752f2_row0_col0\" class=\"data row0 col0\" >Light Gradient Boosting Machine</td>\n",
       "      <td id=\"T_752f2_row0_col1\" class=\"data row0 col1\" >209.6404</td>\n",
       "      <td id=\"T_752f2_row0_col2\" class=\"data row0 col2\" >77218.5533</td>\n",
       "      <td id=\"T_752f2_row0_col3\" class=\"data row0 col3\" >277.8823</td>\n",
       "      <td id=\"T_752f2_row0_col4\" class=\"data row0 col4\" >0.6586</td>\n",
       "      <td id=\"T_752f2_row0_col5\" class=\"data row0 col5\" >0.2616</td>\n",
       "      <td id=\"T_752f2_row0_col6\" class=\"data row0 col6\" >0.2081</td>\n",
       "    </tr>\n",
       "  </tbody>\n",
       "</table>\n"
      ],
      "text/plain": [
       "<pandas.io.formats.style.Styler at 0x2747a804110>"
      ]
     },
     "metadata": {},
     "output_type": "display_data"
    },
    {
     "name": "stdout",
     "output_type": "stream",
     "text": [
      "[LightGBM] [Warning] feature_fraction is set=0.7588282465072769, colsample_bytree=1.0 will be ignored. Current value: feature_fraction=0.7588282465072769\n",
      "[LightGBM] [Warning] bagging_fraction is set=0.887437593014418, subsample=1.0 will be ignored. Current value: bagging_fraction=0.887437593014418\n",
      "[LightGBM] [Warning] bagging_freq is set=1, subsample_freq=0 will be ignored. Current value: bagging_freq=1\n"
     ]
    }
   ],
   "source": [
    "holdout_pred = predict_model(tuned_model)"
   ]
  },
  {
   "cell_type": "code",
   "execution_count": 10,
   "id": "903d6b75",
   "metadata": {},
   "outputs": [
    {
     "data": {
      "text/html": [
       "<div>\n",
       "<style scoped>\n",
       "    .dataframe tbody tr th:only-of-type {\n",
       "        vertical-align: middle;\n",
       "    }\n",
       "\n",
       "    .dataframe tbody tr th {\n",
       "        vertical-align: top;\n",
       "    }\n",
       "\n",
       "    .dataframe thead th {\n",
       "        text-align: right;\n",
       "    }\n",
       "</style>\n",
       "<table border=\"1\" class=\"dataframe\">\n",
       "  <thead>\n",
       "    <tr style=\"text-align: right;\">\n",
       "      <th></th>\n",
       "      <th>location</th>\n",
       "      <th>bedroom</th>\n",
       "      <th>bathroom</th>\n",
       "      <th>land_area</th>\n",
       "      <th>building_area</th>\n",
       "    </tr>\n",
       "  </thead>\n",
       "  <tbody>\n",
       "    <tr>\n",
       "      <th>0</th>\n",
       "      <td>Rungkut, Surabaya</td>\n",
       "      <td>3</td>\n",
       "      <td>3</td>\n",
       "      <td>67</td>\n",
       "      <td>120</td>\n",
       "    </tr>\n",
       "    <tr>\n",
       "      <th>1</th>\n",
       "      <td>Medokan Ayu, Surabaya</td>\n",
       "      <td>3</td>\n",
       "      <td>3</td>\n",
       "      <td>72</td>\n",
       "      <td>140</td>\n",
       "    </tr>\n",
       "    <tr>\n",
       "      <th>2</th>\n",
       "      <td>Wonorejo, Surabaya</td>\n",
       "      <td>2</td>\n",
       "      <td>1</td>\n",
       "      <td>30</td>\n",
       "      <td>36</td>\n",
       "    </tr>\n",
       "    <tr>\n",
       "      <th>3</th>\n",
       "      <td>Sukolilo, Surabaya</td>\n",
       "      <td>2</td>\n",
       "      <td>2</td>\n",
       "      <td>50</td>\n",
       "      <td>55</td>\n",
       "    </tr>\n",
       "    <tr>\n",
       "      <th>4</th>\n",
       "      <td>Kebraon, Surabaya</td>\n",
       "      <td>2</td>\n",
       "      <td>1</td>\n",
       "      <td>50</td>\n",
       "      <td>56</td>\n",
       "    </tr>\n",
       "  </tbody>\n",
       "</table>\n",
       "</div>"
      ],
      "text/plain": [
       "                location  bedroom  bathroom  land_area  building_area\n",
       "0      Rungkut, Surabaya        3         3         67            120\n",
       "1  Medokan Ayu, Surabaya        3         3         72            140\n",
       "2     Wonorejo, Surabaya        2         1         30             36\n",
       "3     Sukolilo, Surabaya        2         2         50             55\n",
       "4      Kebraon, Surabaya        2         1         50             56"
      ]
     },
     "execution_count": 10,
     "metadata": {},
     "output_type": "execute_result"
    }
   ],
   "source": [
    "new_data = df.copy()\n",
    "new_data.drop('price', axis=1, inplace=True)\n",
    "new_data.head()"
   ]
  },
  {
   "cell_type": "code",
   "execution_count": 11,
   "id": "df777b25",
   "metadata": {},
   "outputs": [
    {
     "data": {
      "text/html": [],
      "text/plain": [
       "<IPython.core.display.HTML object>"
      ]
     },
     "metadata": {},
     "output_type": "display_data"
    },
    {
     "name": "stdout",
     "output_type": "stream",
     "text": [
      "[LightGBM] [Warning] feature_fraction is set=0.7588282465072769, colsample_bytree=1.0 will be ignored. Current value: feature_fraction=0.7588282465072769\n",
      "[LightGBM] [Warning] bagging_fraction is set=0.887437593014418, subsample=1.0 will be ignored. Current value: bagging_fraction=0.887437593014418\n",
      "[LightGBM] [Warning] bagging_freq is set=1, subsample_freq=0 will be ignored. Current value: bagging_freq=1\n"
     ]
    },
    {
     "data": {
      "text/html": [
       "<div>\n",
       "<style scoped>\n",
       "    .dataframe tbody tr th:only-of-type {\n",
       "        vertical-align: middle;\n",
       "    }\n",
       "\n",
       "    .dataframe tbody tr th {\n",
       "        vertical-align: top;\n",
       "    }\n",
       "\n",
       "    .dataframe thead th {\n",
       "        text-align: right;\n",
       "    }\n",
       "</style>\n",
       "<table border=\"1\" class=\"dataframe\">\n",
       "  <thead>\n",
       "    <tr style=\"text-align: right;\">\n",
       "      <th></th>\n",
       "      <th>location</th>\n",
       "      <th>bedroom</th>\n",
       "      <th>bathroom</th>\n",
       "      <th>land_area</th>\n",
       "      <th>building_area</th>\n",
       "      <th>prediction_label</th>\n",
       "    </tr>\n",
       "  </thead>\n",
       "  <tbody>\n",
       "    <tr>\n",
       "      <th>0</th>\n",
       "      <td>Rungkut, Surabaya</td>\n",
       "      <td>3</td>\n",
       "      <td>3</td>\n",
       "      <td>67</td>\n",
       "      <td>120</td>\n",
       "      <td>1263.256200</td>\n",
       "    </tr>\n",
       "    <tr>\n",
       "      <th>1</th>\n",
       "      <td>Medokan Ayu, Surabaya</td>\n",
       "      <td>3</td>\n",
       "      <td>3</td>\n",
       "      <td>72</td>\n",
       "      <td>140</td>\n",
       "      <td>1205.837301</td>\n",
       "    </tr>\n",
       "    <tr>\n",
       "      <th>2</th>\n",
       "      <td>Wonorejo, Surabaya</td>\n",
       "      <td>2</td>\n",
       "      <td>1</td>\n",
       "      <td>30</td>\n",
       "      <td>36</td>\n",
       "      <td>408.374002</td>\n",
       "    </tr>\n",
       "    <tr>\n",
       "      <th>3</th>\n",
       "      <td>Sukolilo, Surabaya</td>\n",
       "      <td>2</td>\n",
       "      <td>2</td>\n",
       "      <td>50</td>\n",
       "      <td>55</td>\n",
       "      <td>916.593588</td>\n",
       "    </tr>\n",
       "    <tr>\n",
       "      <th>4</th>\n",
       "      <td>Kebraon, Surabaya</td>\n",
       "      <td>2</td>\n",
       "      <td>1</td>\n",
       "      <td>50</td>\n",
       "      <td>56</td>\n",
       "      <td>652.589755</td>\n",
       "    </tr>\n",
       "  </tbody>\n",
       "</table>\n",
       "</div>"
      ],
      "text/plain": [
       "                location  bedroom  bathroom  land_area  building_area  \\\n",
       "0      Rungkut, Surabaya        3         3         67            120   \n",
       "1  Medokan Ayu, Surabaya        3         3         72            140   \n",
       "2     Wonorejo, Surabaya        2         1         30             36   \n",
       "3     Sukolilo, Surabaya        2         2         50             55   \n",
       "4      Kebraon, Surabaya        2         1         50             56   \n",
       "\n",
       "   prediction_label  \n",
       "0       1263.256200  \n",
       "1       1205.837301  \n",
       "2        408.374002  \n",
       "3        916.593588  \n",
       "4        652.589755  "
      ]
     },
     "execution_count": 11,
     "metadata": {},
     "output_type": "execute_result"
    }
   ],
   "source": [
    "predictions = predict_model(tuned_model, data = new_data)\n",
    "predictions.head()"
   ]
  },
  {
   "cell_type": "code",
   "execution_count": 12,
   "id": "e04bfd84",
   "metadata": {},
   "outputs": [],
   "source": [
    "# save_model(tuned_model, 'house-price-rf')"
   ]
  }
 ],
 "metadata": {
  "kernelspec": {
   "display_name": ".venv",
   "language": "python",
   "name": "python3"
  },
  "language_info": {
   "codemirror_mode": {
    "name": "ipython",
    "version": 3
   },
   "file_extension": ".py",
   "mimetype": "text/x-python",
   "name": "python",
   "nbconvert_exporter": "python",
   "pygments_lexer": "ipython3",
   "version": "3.11.9"
  }
 },
 "nbformat": 4,
 "nbformat_minor": 5
}
