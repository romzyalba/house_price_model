{
 "cells": [
  {
   "cell_type": "code",
   "execution_count": 12,
   "id": "870848cc",
   "metadata": {},
   "outputs": [],
   "source": [
    "import numpy as np\n",
    "import pandas as pd\n",
    "import matplotlib.pyplot as plt\n",
    "\n",
    "from sklearn.model_selection import train_test_split\n",
    "from category_encoders import TargetEncoder\n",
    "from sklearn.preprocessing import MinMaxScaler\n",
    "\n",
    "from xgboost import XGBRegressor\n",
    "from sklearn.model_selection import GridSearchCV, learning_curve\n",
    "from sklearn.metrics import mean_absolute_error, mean_squared_error, r2_score"
   ]
  },
  {
   "cell_type": "code",
   "execution_count": 13,
   "id": "eae14631",
   "metadata": {},
   "outputs": [],
   "source": [
    "rumah123_df = pd.read_csv(\"../../data/rumah123_ready.csv\")\n",
    "X = rumah123_df.drop(columns=[\"price\"])\n",
    "y = rumah123_df[\"price\"]\n",
    "X_train, X_test, y_train, y_test = train_test_split(\n",
    "    X, y, test_size=0.2, random_state=42\n",
    ")"
   ]
  },
  {
   "cell_type": "code",
   "execution_count": 14,
   "id": "95a62ac3",
   "metadata": {},
   "outputs": [],
   "source": [
    "encoder = TargetEncoder(cols=[\"location\"])\n",
    "encoder.fit(X_train, y_train)\n",
    "\n",
    "X_train_encoded = encoder.transform(X_train)\n",
    "X_test_encoded = encoder.transform(X_test)"
   ]
  },
  {
   "cell_type": "code",
   "execution_count": 15,
   "id": "10b71b9f",
   "metadata": {},
   "outputs": [],
   "source": [
    "scaler = MinMaxScaler()\n",
    "X_train_scaled = scaler.fit_transform(X_train_encoded)\n",
    "X_test_scaled = scaler.transform(X_test_encoded)"
   ]
  },
  {
   "cell_type": "code",
   "execution_count": null,
   "id": "f2395b05",
   "metadata": {},
   "outputs": [],
   "source": [
    "xgb = XGBRegressor(verbosity=0)\n",
    "\n",
    "param_grid = {\n",
    "    'learning_rate': [0.01, 0.05, 0.1, 0.2, 0.3],\n",
    "    'n_estimators': [100, 300, 500, 700, 1000],\n",
    "    'max_depth': [3, 5, 7, 9, 11],\n",
    "    'min_child_weight': [1, 3, 5, 7],\n",
    "    'subsample': [0.5, 0.7, 0.8, 0.9, 1.0],\n",
    "    'colsample_bytree': [0.5, 0.7, 0.8, 0.9, 1.0],\n",
    "    'gamma': [0, 0.1, 0.3, 0.5, 1],\n",
    "    'reg_alpha': [0, 0.01, 0.1, 0.5, 1],\n",
    "    'reg_lambda': [0, 0.01, 0.1, 0.5, 1],\n",
    "}"
   ]
  },
  {
   "cell_type": "code",
   "execution_count": 80,
   "id": "aa11cf71",
   "metadata": {},
   "outputs": [
    {
     "name": "stdout",
     "output_type": "stream",
     "text": [
      "Fitting 5 folds for each of 20 candidates, totalling 100 fits\n",
      "Best parameters: {'learning_rate': 0.06, 'max_depth': 6, 'min_child_weight': 1, 'n_estimators': 900}\n"
     ]
    }
   ],
   "source": [
    "grid_search = GridSearchCV(\n",
    "    estimator=xgb,\n",
    "    param_grid=param_grid,\n",
    "    scoring=\"neg_mean_squared_error\",\n",
    "    cv=5,\n",
    "    n_jobs=-1,\n",
    "    verbose=3,\n",
    ")\n",
    "\n",
    "grid_search.fit(X_train_scaled, y_train)\n",
    "\n",
    "print(\"Best parameters:\", grid_search.best_params_)"
   ]
  },
  {
   "cell_type": "code",
   "execution_count": 81,
   "id": "f62dee69",
   "metadata": {},
   "outputs": [],
   "source": [
    "# Fit & predict\n",
    "best_xgb = XGBRegressor(**grid_search.best_params_)\n",
    "best_xgb.fit(X_train_scaled, y_train)\n",
    "y_train_pred = best_xgb.predict(X_train_scaled)\n",
    "y_test_pred = best_xgb.predict(X_test_scaled)"
   ]
  },
  {
   "cell_type": "code",
   "execution_count": 82,
   "id": "fa6891c8",
   "metadata": {},
   "outputs": [],
   "source": [
    "# Hitung metrik\n",
    "mae_train = mean_absolute_error(y_train, y_train_pred)\n",
    "mae_test = mean_absolute_error(y_test, y_test_pred)\n",
    "mse_train = mean_squared_error(y_train, y_train_pred)\n",
    "mse_test = mean_squared_error(y_test, y_test_pred)\n",
    "rmse_train = np.sqrt(mse_train)\n",
    "rmse_test = np.sqrt(mse_test)\n",
    "r2_train = r2_score(y_train, y_train_pred)\n",
    "r2_test = r2_score(y_test, y_test_pred)"
   ]
  },
  {
   "cell_type": "code",
   "execution_count": 83,
   "id": "d36e3265",
   "metadata": {},
   "outputs": [
    {
     "data": {
      "text/html": [
       "<div>\n",
       "<style scoped>\n",
       "    .dataframe tbody tr th:only-of-type {\n",
       "        vertical-align: middle;\n",
       "    }\n",
       "\n",
       "    .dataframe tbody tr th {\n",
       "        vertical-align: top;\n",
       "    }\n",
       "\n",
       "    .dataframe thead th {\n",
       "        text-align: right;\n",
       "    }\n",
       "</style>\n",
       "<table border=\"1\" class=\"dataframe\">\n",
       "  <thead>\n",
       "    <tr style=\"text-align: right;\">\n",
       "      <th></th>\n",
       "      <th>Train</th>\n",
       "      <th>Test</th>\n",
       "    </tr>\n",
       "  </thead>\n",
       "  <tbody>\n",
       "    <tr>\n",
       "      <th>MAE</th>\n",
       "      <td>144.285417</td>\n",
       "      <td>197.287166</td>\n",
       "    </tr>\n",
       "    <tr>\n",
       "      <th>MSE</th>\n",
       "      <td>38073.508662</td>\n",
       "      <td>68827.432545</td>\n",
       "    </tr>\n",
       "    <tr>\n",
       "      <th>RMSE</th>\n",
       "      <td>195.124342</td>\n",
       "      <td>262.349829</td>\n",
       "    </tr>\n",
       "    <tr>\n",
       "      <th>R²</th>\n",
       "      <td>0.836641</td>\n",
       "      <td>0.713910</td>\n",
       "    </tr>\n",
       "  </tbody>\n",
       "</table>\n",
       "</div>"
      ],
      "text/plain": [
       "             Train          Test\n",
       "MAE     144.285417    197.287166\n",
       "MSE   38073.508662  68827.432545\n",
       "RMSE    195.124342    262.349829\n",
       "R²        0.836641      0.713910"
      ]
     },
     "execution_count": 83,
     "metadata": {},
     "output_type": "execute_result"
    }
   ],
   "source": [
    "# Buat dict berisi (Train, Test) untuk setiap metrik\n",
    "metrics = {\n",
    "    \"MAE\": (mae_train, mae_test),\n",
    "    \"MSE\": (mse_train, mse_test),\n",
    "    \"RMSE\": (rmse_train, rmse_test),\n",
    "    \"R²\": (r2_train, r2_test),\n",
    "}\n",
    "\n",
    "df_eval = pd.DataFrame.from_dict(metrics, orient=\"index\", columns=[\"Train\", \"Test\"])\n",
    "\n",
    "df_eval"
   ]
  },
  {
   "cell_type": "code",
   "execution_count": 84,
   "id": "2ee63329",
   "metadata": {},
   "outputs": [],
   "source": [
    "def plot_learning_curve(model, X, y, cv, scoring, title):\n",
    "    train_sizes, train_scores, test_scores = learning_curve(\n",
    "        model, X, y, cv=cv, scoring=scoring\n",
    "    )\n",
    "    train_scores_mean = -np.mean(train_scores, axis=1)\n",
    "    train_scores_std = np.std(train_scores, axis=1)\n",
    "    test_scores_mean = -np.mean(test_scores, axis=1)\n",
    "    test_scores_std = np.std(test_scores, axis=1)\n",
    "\n",
    "    plt.figure(figsize=(10, 6))\n",
    "    plt.title(title)\n",
    "    plt.xlabel(\"Number of Training Samples\")\n",
    "    plt.ylabel(\"neg_mean_squared_error\")\n",
    "    plt.grid()\n",
    "\n",
    "    plt.fill_between(\n",
    "        train_sizes,\n",
    "        train_scores_mean - train_scores_std,\n",
    "        train_scores_mean + train_scores_std,\n",
    "        alpha=0.1,\n",
    "        color=\"r\",\n",
    "    )\n",
    "    plt.fill_between(\n",
    "        train_sizes,\n",
    "        test_scores_mean - test_scores_std,\n",
    "        test_scores_mean + test_scores_std,\n",
    "        alpha=0.1,\n",
    "        color=\"g\",\n",
    "    )\n",
    "    plt.plot(train_sizes, train_scores_mean, \"o-\", color=\"r\", label=\"Training RMSE\")\n",
    "    plt.plot(train_sizes, test_scores_mean, \"o-\", color=\"g\", label=\"Testing RMSE\")\n",
    "\n",
    "    plt.legend(loc=\"best\")\n",
    "    plt.show()"
   ]
  },
  {
   "cell_type": "code",
   "execution_count": 85,
   "id": "1cae1186",
   "metadata": {},
   "outputs": [],
   "source": [
    "# # Gabungkan array menjadi satu\n",
    "# X_scaled = np.vstack([X_train_scaled, X_test_scaled])\n",
    "\n",
    "# # Gabungkan y\n",
    "# y = pd.concat([y_train, y_test], axis=0).reset_index(drop=True)\n",
    "\n",
    "# # Buat DataFrame dari array X_scaled\n",
    "# X = pd.DataFrame(X_scaled, columns=[X_train.columns])\n",
    "\n",
    "# plot_learning_curve(\n",
    "#     best_xgb,\n",
    "#     X,\n",
    "#     y,\n",
    "#     cv=5,\n",
    "#     scoring=\"neg_mean_squared_error\",\n",
    "#     title=\"Learning Curve CatBoost\",\n",
    "# )"
   ]
  }
 ],
 "metadata": {
  "kernelspec": {
   "display_name": ".venv",
   "language": "python",
   "name": "python3"
  },
  "language_info": {
   "codemirror_mode": {
    "name": "ipython",
    "version": 3
   },
   "file_extension": ".py",
   "mimetype": "text/x-python",
   "name": "python",
   "nbconvert_exporter": "python",
   "pygments_lexer": "ipython3",
   "version": "3.11.9"
  }
 },
 "nbformat": 4,
 "nbformat_minor": 5
}
