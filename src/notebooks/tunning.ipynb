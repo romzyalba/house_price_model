{
 "cells": [
  {
   "cell_type": "code",
   "execution_count": 1,
   "id": "870848cc",
   "metadata": {},
   "outputs": [],
   "source": [
    "import numpy as np\n",
    "import pandas as pd\n",
    "import matplotlib.pyplot as plt\n",
    "\n",
    "from sklearn.model_selection import train_test_split\n",
    "from category_encoders import TargetEncoder\n",
    "from sklearn.preprocessing import MinMaxScaler\n",
    "\n",
    "from xgboost import XGBRegressor\n",
    "from sklearn.model_selection import GridSearchCV, learning_curve\n",
    "from sklearn.metrics import mean_absolute_error, mean_squared_error, r2_score"
   ]
  },
  {
   "cell_type": "code",
   "execution_count": 2,
   "id": "eae14631",
   "metadata": {},
   "outputs": [],
   "source": [
    "rumah123_df = pd.read_csv(\"../../data/rumah123_ready.csv\")\n",
    "X = rumah123_df.drop(columns=[\"price\"])\n",
    "y = rumah123_df[\"price\"]\n",
    "X_train, X_test, y_train, y_test = train_test_split(\n",
    "    X, y, test_size=0.2, random_state=42\n",
    ")"
   ]
  },
  {
   "cell_type": "code",
   "execution_count": 3,
   "id": "95a62ac3",
   "metadata": {},
   "outputs": [],
   "source": [
    "encoder = TargetEncoder(cols=[\"location\"])\n",
    "encoder.fit(X_train, y_train)\n",
    "\n",
    "X_train_encoded = encoder.transform(X_train)\n",
    "X_test_encoded = encoder.transform(X_test)"
   ]
  },
  {
   "cell_type": "code",
   "execution_count": 4,
   "id": "10b71b9f",
   "metadata": {},
   "outputs": [],
   "source": [
    "scaler = MinMaxScaler()\n",
    "X_train_scaled = scaler.fit_transform(X_train_encoded)\n",
    "X_test_scaled = scaler.transform(X_test_encoded)"
   ]
  },
  {
   "cell_type": "code",
   "execution_count": 5,
   "id": "f2395b05",
   "metadata": {},
   "outputs": [],
   "source": [
    "xgb = XGBRegressor(verbosity=0)\n",
    "\n",
    "param_grid = {\n",
    "    \"n_estimators\": [100, 500, 100],  # 100, 500, 1000\n",
    "    \"learning_rate\": [0.01, 0.03, 0.1],  # 0.03, 0.04, 0.05\n",
    "    \"max_depth\": [6, 7, 8, 9, 10],  # 7, 8, 9\n",
    "    \"subsample\": [0.5, 0.8, 1],  # 0.8, 0.9, 1.0\n",
    "    \"colsample_bytree\": [0.5, 0.8, 1],  # 0.7, 0.8, 0.9\n",
    "}"
   ]
  },
  {
   "cell_type": "code",
   "execution_count": 6,
   "id": "aa11cf71",
   "metadata": {},
   "outputs": [
    {
     "name": "stdout",
     "output_type": "stream",
     "text": [
      "Fitting 5 folds for each of 405 candidates, totalling 2025 fits\n",
      "Best parameters: {'colsample_bytree': 0.8, 'learning_rate': 0.03, 'max_depth': 9, 'n_estimators': 500, 'subsample': 0.8}\n"
     ]
    }
   ],
   "source": [
    "grid_search = GridSearchCV(\n",
    "    estimator=xgb,\n",
    "    param_grid=param_grid,\n",
    "    scoring=\"neg_mean_squared_error\",\n",
    "    cv=5,\n",
    "    n_jobs=-1,\n",
    "    verbose=3,\n",
    ")\n",
    "\n",
    "grid_search.fit(X_train_scaled, y_train)\n",
    "\n",
    "print(\"Best parameters:\", grid_search.best_params_)"
   ]
  },
  {
   "cell_type": "code",
   "execution_count": 7,
   "id": "f62dee69",
   "metadata": {},
   "outputs": [],
   "source": [
    "# Fit & predict\n",
    "best_xgb = XGBRegressor(**grid_search.best_params_)\n",
    "best_xgb.fit(X_train_scaled, y_train)\n",
    "y_train_pred = best_xgb.predict(X_train_scaled)\n",
    "y_test_pred = best_xgb.predict(X_test_scaled)"
   ]
  },
  {
   "cell_type": "code",
   "execution_count": 8,
   "id": "fa6891c8",
   "metadata": {},
   "outputs": [],
   "source": [
    "# Hitung metrik\n",
    "mae_train = mean_absolute_error(y_train, y_train_pred)\n",
    "mae_test = mean_absolute_error(y_test, y_test_pred)\n",
    "mse_train = mean_squared_error(y_train, y_train_pred)\n",
    "mse_test = mean_squared_error(y_test, y_test_pred)\n",
    "rmse_train = np.sqrt(mse_train)\n",
    "rmse_test = np.sqrt(mse_test)\n",
    "r2_train = r2_score(y_train, y_train_pred)\n",
    "r2_test = r2_score(y_test, y_test_pred)"
   ]
  },
  {
   "cell_type": "code",
   "execution_count": 9,
   "id": "d36e3265",
   "metadata": {},
   "outputs": [
    {
     "data": {
      "text/html": [
       "<div>\n",
       "<style scoped>\n",
       "    .dataframe tbody tr th:only-of-type {\n",
       "        vertical-align: middle;\n",
       "    }\n",
       "\n",
       "    .dataframe tbody tr th {\n",
       "        vertical-align: top;\n",
       "    }\n",
       "\n",
       "    .dataframe thead th {\n",
       "        text-align: right;\n",
       "    }\n",
       "</style>\n",
       "<table border=\"1\" class=\"dataframe\">\n",
       "  <thead>\n",
       "    <tr style=\"text-align: right;\">\n",
       "      <th></th>\n",
       "      <th>Train</th>\n",
       "      <th>Test</th>\n",
       "    </tr>\n",
       "  </thead>\n",
       "  <tbody>\n",
       "    <tr>\n",
       "      <th>MAE</th>\n",
       "      <td>125.924940</td>\n",
       "      <td>193.692143</td>\n",
       "    </tr>\n",
       "    <tr>\n",
       "      <th>MSE</th>\n",
       "      <td>29127.168934</td>\n",
       "      <td>67099.246299</td>\n",
       "    </tr>\n",
       "    <tr>\n",
       "      <th>RMSE</th>\n",
       "      <td>170.666836</td>\n",
       "      <td>259.035222</td>\n",
       "    </tr>\n",
       "    <tr>\n",
       "      <th>R²</th>\n",
       "      <td>0.875027</td>\n",
       "      <td>0.721094</td>\n",
       "    </tr>\n",
       "  </tbody>\n",
       "</table>\n",
       "</div>"
      ],
      "text/plain": [
       "             Train          Test\n",
       "MAE     125.924940    193.692143\n",
       "MSE   29127.168934  67099.246299\n",
       "RMSE    170.666836    259.035222\n",
       "R²        0.875027      0.721094"
      ]
     },
     "execution_count": 9,
     "metadata": {},
     "output_type": "execute_result"
    }
   ],
   "source": [
    "# Buat dict berisi (Train, Test) untuk setiap metrik\n",
    "metrics = {\n",
    "    \"MAE\": (mae_train, mae_test),\n",
    "    \"MSE\": (mse_train, mse_test),\n",
    "    \"RMSE\": (rmse_train, rmse_test),\n",
    "    \"R²\": (r2_train, r2_test),\n",
    "}\n",
    "\n",
    "df_eval = pd.DataFrame.from_dict(metrics, orient=\"index\", columns=[\"Train\", \"Test\"])\n",
    "\n",
    "df_eval"
   ]
  },
  {
   "cell_type": "code",
   "execution_count": 10,
   "id": "2ee63329",
   "metadata": {},
   "outputs": [],
   "source": [
    "def plot_learning_curve(model, X, y, cv, scoring, title):\n",
    "    train_sizes, train_scores, test_scores = learning_curve(\n",
    "        model, X, y, cv=cv, scoring=scoring\n",
    "    )\n",
    "    train_scores_mean = -np.mean(train_scores, axis=1)\n",
    "    train_scores_std = np.std(train_scores, axis=1)\n",
    "    test_scores_mean = -np.mean(test_scores, axis=1)\n",
    "    test_scores_std = np.std(test_scores, axis=1)\n",
    "\n",
    "    plt.figure(figsize=(10, 6))\n",
    "    plt.title(title)\n",
    "    plt.xlabel(\"Number of Training Samples\")\n",
    "    plt.ylabel(\"neg_mean_squared_error\")\n",
    "    plt.grid()\n",
    "\n",
    "    plt.fill_between(\n",
    "        train_sizes,\n",
    "        train_scores_mean - train_scores_std,\n",
    "        train_scores_mean + train_scores_std,\n",
    "        alpha=0.1,\n",
    "        color=\"r\",\n",
    "    )\n",
    "    plt.fill_between(\n",
    "        train_sizes,\n",
    "        test_scores_mean - test_scores_std,\n",
    "        test_scores_mean + test_scores_std,\n",
    "        alpha=0.1,\n",
    "        color=\"g\",\n",
    "    )\n",
    "    plt.plot(train_sizes, train_scores_mean, \"o-\", color=\"r\", label=\"Training RMSE\")\n",
    "    plt.plot(train_sizes, test_scores_mean, \"o-\", color=\"g\", label=\"Testing RMSE\")\n",
    "\n",
    "    plt.legend(loc=\"best\")\n",
    "    plt.show()"
   ]
  },
  {
   "cell_type": "code",
   "execution_count": 11,
   "id": "1cae1186",
   "metadata": {},
   "outputs": [
    {
     "data": {
      "image/png": "[encoded data removed]",
      "text/plain": [
       "<Figure size 1000x600 with 1 Axes>"
      ]
     },
     "metadata": {},
     "output_type": "display_data"
    }
   ],
   "source": [
    "# Gabungkan array menjadi satu\n",
    "X_scaled = np.vstack([X_train_scaled, X_test_scaled])\n",
    "\n",
    "# Gabungkan y\n",
    "y = pd.concat([y_train, y_test], axis=0).reset_index(drop=True)\n",
    "\n",
    "# Buat DataFrame dari array X_scaled\n",
    "X = pd.DataFrame(X_scaled, columns=[X_train.columns])\n",
    "\n",
    "plot_learning_curve(\n",
    "    best_xgb,\n",
    "    X,\n",
    "    y,\n",
    "    cv=5,\n",
    "    scoring=\"neg_mean_squared_error\",\n",
    "    title=\"Learning Curve CatBoost\",\n",
    ")"
   ]
  }
 ],
 "metadata": {
  "kernelspec": {
   "display_name": ".venv",
   "language": "python",
   "name": "python3"
  },
  "language_info": {
   "codemirror_mode": {
    "name": "ipython",
    "version": 3
   },
   "file_extension": ".py",
   "mimetype": "text/x-python",
   "name": "python",
   "nbconvert_exporter": "python",
   "pygments_lexer": "ipython3",
   "version": "3.11.8"
  }
 },
 "nbformat": 4,
 "nbformat_minor": 5
}
