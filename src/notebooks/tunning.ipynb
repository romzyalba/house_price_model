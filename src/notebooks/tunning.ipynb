{
 "cells": [
  {
   "cell_type": "code",
   "execution_count": null,
   "id": "7e45282c",
   "metadata": {},
   "outputs": [],
   "source": [
    "from sklearn.model_selection import GridSearchCV"
   ]
  },
  {
   "cell_type": "code",
   "execution_count": null,
   "id": "e0cfe349",
   "metadata": {},
   "outputs": [],
   "source": [
    "# Parameter yang akan diuji\n",
    "param_grid = {\n",
    "    'C': [1, 10, 100],                        # regularisasi ringan, sedang, kuat\n",
    "    'epsilon': [0.01, 0.1, 0.5],              # toleransi kesalahan kecil hingga sedang\n",
    "    'kernel': ['linear', 'rbf', 'poly'],      # core kernel yang paling umum digunakan\n",
    "    'gamma': ['scale', 0.01, 0.1],            # cukup untuk variasi halus\n",
    "    'degree': [2, 3],                         # cukup untuk polynomial order rendah\n",
    "    'coef0': [0.0, 0.5]                       # nilai rendah dan sedang untuk poly/sigmoid\n",
    "}\n",
    "\n",
    "# Dapatkan kombinasi param yang relevan per kernel\n",
    "filtered_param_grid = generate_kernel_specific_param_grid(param_grid)\n",
    "\n",
    "# Inisialisasi model SVR\n",
    "svr_model_name = results_df.iloc[0]['Model']\n",
    "svr_model = models[svr_model_name]\n",
    "\n",
    "# Inisialisasi objek GridSearchCV\n",
    "grid_search = GridSearchCV(svr_model, param_grid, cv=5, scoring='neg_root_mean_squared_error', verbose=1, n_jobs=-1)\n",
    "\n",
    "# Lakukan pencarian parameter terbaik\n",
    "grid_search.fit(X_train, y_train)"
   ]
  },
  {
   "cell_type": "code",
   "execution_count": null,
   "id": "392fb8fe",
   "metadata": {},
   "outputs": [],
   "source": [
    "print(\"Best params:\", grid_search.best_params_)"
   ]
  },
  {
   "cell_type": "code",
   "execution_count": null,
   "id": "796432a6",
   "metadata": {},
   "outputs": [],
   "source": [
    "# Ambil parameter terbaik kemudian train ulang model\n",
    "best_params = grid_search.best_params_\n",
    "svr_grid_best = SVR(**best_params)\n",
    "svr_grid_best.fit(X_train, y_train)"
   ]
  },
  {
   "cell_type": "code",
   "execution_count": null,
   "id": "c57f822b",
   "metadata": {},
   "outputs": [],
   "source": [
    "# rmse untuk data train\n",
    "y_train_pred = svr_grid_best.predict(X_train)\n",
    "rmse_train = np.sqrt(mean_squared_error(y_train, y_train_pred))\n",
    "\n",
    "# rmse untuk data test\n",
    "y_test_pred = svr_grid_best.predict(X_test)\n",
    "rmse_test = np.sqrt(mean_squared_error(y_test, y_test_pred))\n",
    "\n",
    "print(\"RMSE on training set:\", rmse_train)\n",
    "print(\"RMSE on testing set:\", rmse_test)"
   ]
  },
  {
   "cell_type": "markdown",
   "id": "ecd5201c",
   "metadata": {},
   "source": [
    "# CatBoost Regressor"
   ]
  },
  {
   "cell_type": "code",
   "execution_count": 6,
   "id": "2b99344a",
   "metadata": {},
   "outputs": [],
   "source": [
    "import numpy as np\n",
    "import pandas as pd\n",
    "from sklearn.preprocessing import MinMaxScaler\n",
    "from catboost import CatBoostRegressor, Pool\n",
    "from sklearn.model_selection import train_test_split\n",
    "\n",
    "# Splitting dataset menjadi train dan test dengan perbandingan 8:2  \n",
    "rumah123_df = pd.read_csv(\"../../data/rumah123_ready.csv\")\n",
    "X = rumah123_df.drop(columns=['price'])\n",
    "y = rumah123_df['price']\n",
    "X_train, X_test, y_train, y_test = train_test_split(X, y, test_size=0.2, random_state=42)\n",
    "\n",
    "scaler = MinMaxScaler()\n",
    "X_train_scaled = scaler.fit_transform(X_train)\n",
    "X_test_scaled = scaler.transform(X_test)"
   ]
  },
  {
   "cell_type": "code",
   "execution_count": 29,
   "id": "5828f839",
   "metadata": {},
   "outputs": [
    {
     "name": "stdout",
     "output_type": "stream",
     "text": [
      "\n",
      "bestTest = 266.8390972\n",
      "bestIteration = 1088\n",
      "\n",
      "0:\tloss: 266.8390972\tbest: 266.8390972 (0)\ttotal: 8.15s\tremaining: 40.7s\n",
      "\n",
      "bestTest = 266.8390972\n",
      "bestIteration = 1088\n",
      "\n",
      "\n",
      "bestTest = 265.5830483\n",
      "bestIteration = 1397\n",
      "\n",
      "\n",
      "bestTest = 265.5830483\n",
      "bestIteration = 1397\n",
      "\n",
      "3:\tloss: 265.5830483\tbest: 265.5830483 (2)\ttotal: 31.4s\tremaining: 15.7s\n",
      "\n",
      "bestTest = 267.7219215\n",
      "bestIteration = 1705\n",
      "\n",
      "\n",
      "bestTest = 267.7219215\n",
      "bestIteration = 1705\n",
      "\n",
      "5:\tloss: 267.7219215\tbest: 265.5830483 (2)\ttotal: 47.2s\tremaining: 0us\n",
      "Estimating final quality...\n",
      "Training on fold [0/3]\n",
      "\n",
      "bestTest = 278.1041632\n",
      "bestIteration = 690\n",
      "\n",
      "Training on fold [1/3]\n",
      "\n",
      "bestTest = 273.5706015\n",
      "bestIteration = 946\n",
      "\n",
      "Training on fold [2/3]\n",
      "\n",
      "bestTest = 272.7146384\n",
      "bestIteration = 931\n",
      "\n",
      "Best parameters found: {'random_strength': 1, 'od_wait': 30, 'iterations': 2000, 'verbose': 0, 'od_type': 'IncToDec', 'bagging_temperature': 0, 'l2_leaf_reg': 2, 'depth': 7, 'learning_rate': 0.15}\n"
     ]
    }
   ],
   "source": [
    "param_grid = {\n",
    "    'iterations': [2000],       # 1000, 1500, 2000\n",
    "    'learning_rate': [0.15],    # 0.01, 0.1, 0.15\n",
    "    'depth': [7],               # 6, 8, 10\n",
    "    'l2_leaf_reg': [2],         # 1, 3, 5\n",
    "    'random_strength': [0.9, 1, 2],     # 1, 5, 10\n",
    "    'bagging_temperature': [0], # 0, 1, 5\n",
    "    # 'border_count': [32, 64, 128],       # 32, 64, 128, 254\n",
    "    'verbose': [0],\n",
    "    'od_type': ['IncToDec'],\n",
    "    'od_wait': [30, 50],\n",
    "}\n",
    "\n",
    "model = CatBoostRegressor(\n",
    "    loss_function='RMSE',\n",
    "    eval_metric='RMSE',\n",
    "    random_seed=42,\n",
    "    # logging_level='Silent', \n",
    "    thread_count=-1\n",
    ")\n",
    "\n",
    "# Tangkap hasil grid search\n",
    "grid_result = model.grid_search(\n",
    "    param_grid,\n",
    "    X=Pool(X_train_scaled, y_train),\n",
    "    cv=3,\n",
    "    partition_random_seed=42,\n",
    "    refit=True,\n",
    "    calc_cv_statistics=True,\n",
    "    verbose=3\n",
    ")\n",
    "\n",
    "# Ambil best_params\n",
    "best_params = grid_result['params']\n",
    "print(\"Best parameters found:\", best_params)\n"
   ]
  }
 ],
 "metadata": {
  "kernelspec": {
   "display_name": ".venv",
   "language": "python",
   "name": "python3"
  },
  "language_info": {
   "codemirror_mode": {
    "name": "ipython",
    "version": 3
   },
   "file_extension": ".py",
   "mimetype": "text/x-python",
   "name": "python",
   "nbconvert_exporter": "python",
   "pygments_lexer": "ipython3",
   "version": "3.11.9"
  }
 },
 "nbformat": 4,
 "nbformat_minor": 5
}
